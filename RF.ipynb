{
 "cells": [
  {
   "cell_type": "code",
   "execution_count": 7,
   "id": "597a9172-8449-4003-886e-e227400229cf",
   "metadata": {},
   "outputs": [
    {
     "name": "stdout",
     "output_type": "stream",
     "text": [
      "准确率 (ACC): 0.985\n",
      "对数损失 (Loss): 0.062105235850144686\n",
      "F1分数 (F1-score): 0.9851526794742164\n"
     ]
    }
   ],
   "source": [
    "import pandas as pd\n",
    "from sklearn.model_selection import train_test_split\n",
    "from sklearn.ensemble import RandomForestClassifier\n",
    "from sklearn.metrics import accuracy_score, log_loss, f1_score\n",
    "\n",
    "# 读取CSV文件\n",
    "data = pd.read_csv('Processed_Dataset_of_Diabetes_Version3.csv')\n",
    "\n",
    "# 提取特征和目标变量\n",
    "X = data.iloc[:, :11]\n",
    "y = data.iloc[:, -1]\n",
    "\n",
    "# 划分训练集和测试集\n",
    "X_train, X_test, y_train, y_test = train_test_split(\n",
    "    X, y, test_size=0.2, random_state=42\n",
    ")\n",
    "\n",
    "# 创建并训练随机森林分类器\n",
    "rf_classifier = RandomForestClassifier(random_state=42)\n",
    "rf_classifier.fit(X_train, y_train)\n",
    "\n",
    "# 预测类别和概率\n",
    "y_pred = rf_classifier.predict(X_test)\n",
    "y_pred_proba = rf_classifier.predict_proba(X_test)\n",
    "\n",
    "# 计算评估指标\n",
    "acc = accuracy_score(y_test, y_pred)\n",
    "loss = log_loss(y_test, y_pred_proba)\n",
    "f1 = f1_score(y_test, y_pred, average='weighted')\n",
    "\n",
    "# 输出评估指标\n",
    "print(f\"准确率 (ACC): {acc}\")\n",
    "print(f\"对数损失 (Loss): {loss}\")\n",
    "print(f\"F1分数 (F1-score): {f1}\")\n",
    "    "
   ]
  },
  {
   "cell_type": "code",
   "execution_count": 13,
   "id": "d6c43e6d-43be-4281-899b-97ce4e730fdd",
   "metadata": {},
   "outputs": [],
   "source": [
    "from joblib import dump, load"
   ]
  },
  {
   "cell_type": "code",
   "execution_count": 17,
   "id": "c7294aa1-3a9d-487e-b893-4bd922aa3880",
   "metadata": {},
   "outputs": [
    {
     "data": {
      "text/plain": [
       "['model.joblib']"
      ]
     },
     "execution_count": 17,
     "metadata": {},
     "output_type": "execute_result"
    }
   ],
   "source": [
    "dump(rf_classifier,'model.joblib')"
   ]
  },
  {
   "cell_type": "code",
   "execution_count": null,
   "id": "2e16e950-eadd-4a87-a4ee-4eba8e1d95e6",
   "metadata": {},
   "outputs": [],
   "source": []
  }
 ],
 "metadata": {
  "kernelspec": {
   "display_name": "Python 3 (ipykernel)",
   "language": "python",
   "name": "python3"
  },
  "language_info": {
   "codemirror_mode": {
    "name": "ipython",
    "version": 3
   },
   "file_extension": ".py",
   "mimetype": "text/x-python",
   "name": "python",
   "nbconvert_exporter": "python",
   "pygments_lexer": "ipython3",
   "version": "3.12.3"
  }
 },
 "nbformat": 4,
 "nbformat_minor": 5
}
